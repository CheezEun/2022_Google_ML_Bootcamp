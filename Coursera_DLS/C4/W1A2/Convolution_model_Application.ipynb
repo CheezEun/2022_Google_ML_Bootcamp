{
 "cells": [
  {
   "cell_type": "markdown",
   "metadata": {},
   "source": [
    "# Convolutional Neural Networks: Application\n",
    "\n",
    "Welcome to Course 4's second assignment! In this notebook, you will:\n",
    "\n",
    "- Create a mood classifer using the TF Keras Sequential API\n",
    "- Build a ConvNet to identify sign language digits using the TF Keras Functional API\n",
    "\n",
    "**After this assignment you will be able to:**\n",
    "\n",
    "- Build and train a ConvNet in TensorFlow for a __binary__ classification problem\n",
    "- Build and train a ConvNet in TensorFlow for a __multiclass__ classification problem\n",
    "- Explain different use cases for the Sequential and Functional APIs\n",
    "\n",
    "To complete this assignment, you should already be familiar with TensorFlow. If you are not, please refer back to the **TensorFlow Tutorial** of the third week of Course 2 (\"**Improving deep neural networks**\").\n",
    "\n",
    "## Important Note on Submission to the AutoGrader\n",
    "\n",
    "Before submitting your assignment to the AutoGrader, please make sure you are not doing the following:\n",
    "\n",
    "1. You have not added any _extra_ `print` statement(s) in the assignment.\n",
    "2. You have not added any _extra_ code cell(s) in the assignment.\n",
    "3. You have not changed any of the function parameters.\n",
    "4. You are not using any global variables inside your graded exercises. Unless specifically instructed to do so, please refrain from it and use the local variables instead.\n",
    "5. You are not changing the assignment code where it is not required, like creating _extra_ variables.\n",
    "\n",
    "If you do any of the following, you will get something like, `Grader not found` (or similarly unexpected) error upon submitting your assignment. Before asking for help/debugging the errors in your assignment, check for these first. If this is the case, and you don't remember the changes you have made, you can get a fresh copy of the assignment by following these [instructions](https://www.coursera.org/learn/convolutional-neural-networks/supplement/DS4yP/h-ow-to-refresh-your-workspace)."
   ]
  },
  {
   "cell_type": "markdown",
   "metadata": {},
   "source": [
    "## Table of Contents\n",
    "\n",
    "- [1 - Packages](#1)\n",
    "    - [1.1 - Load the Data and Split the Data into Train/Test Sets](#1-1)\n",
    "- [2 - Layers in TF Keras](#2)\n",
    "- [3 - The Sequential API](#3)\n",
    "    - [3.1 - Create the Sequential Model](#3-1)\n",
    "        - [Exercise 1 - happyModel](#ex-1)\n",
    "    - [3.2 - Train and Evaluate the Model](#3-2)\n",
    "- [4 - The Functional API](#4)\n",
    "    - [4.1 - Load the SIGNS Dataset](#4-1)\n",
    "    - [4.2 - Split the Data into Train/Test Sets](#4-2)\n",
    "    - [4.3 - Forward Propagation](#4-3)\n",
    "        - [Exercise 2 - convolutional_model](#ex-2)\n",
    "    - [4.4 - Train the Model](#4-4)\n",
    "- [5 - History Object](#5)\n",
    "- [6 - Bibliography](#6)"
   ]
  },
  {
   "cell_type": "markdown",
   "metadata": {},
   "source": [
    "<a name='1'></a>\n",
    "## 1 - Packages\n",
    "\n",
    "As usual, begin by loading in the packages."
   ]
  },
  {
   "cell_type": "code",
   "execution_count": 1,
   "metadata": {},
   "outputs": [],
   "source": [
    "import math\n",
    "import numpy as np\n",
    "import h5py\n",
    "import matplotlib.pyplot as plt\n",
    "from matplotlib.pyplot import imread\n",
    "import scipy\n",
    "from PIL import Image\n",
    "import pandas as pd\n",
    "import tensorflow as tf\n",
    "import tensorflow.keras.layers as tfl\n",
    "from tensorflow.python.framework import ops\n",
    "from cnn_utils import *\n",
    "from test_utils import summary, comparator\n",
    "\n",
    "%matplotlib inline\n",
    "np.random.seed(1)"
   ]
  },
  {
   "cell_type": "markdown",
   "metadata": {},
   "source": [
    "<a name='1-1'></a>\n",
    "### 1.1 - Load the Data and Split the Data into Train/Test Sets\n",
    "\n",
    "You'll be using the Happy House dataset for this part of the assignment, which contains images of peoples' faces. Your task will be to build a ConvNet that determines whether the people in the images are smiling or not -- because they only get to enter the house if they're smiling!  "
   ]
  },
  {
   "cell_type": "code",
   "execution_count": 2,
   "metadata": {},
   "outputs": [
    {
     "name": "stdout",
     "output_type": "stream",
     "text": [
      "number of training examples = 600\n",
      "number of test examples = 150\n",
      "X_train shape: (600, 64, 64, 3)\n",
      "Y_train shape: (600, 1)\n",
      "X_test shape: (150, 64, 64, 3)\n",
      "Y_test shape: (150, 1)\n"
     ]
    }
   ],
   "source": [
    "X_train_orig, Y_train_orig, X_test_orig, Y_test_orig, classes = load_happy_dataset()\n",
    "\n",
    "# Normalize image vectors\n",
    "X_train = X_train_orig/255.\n",
    "X_test = X_test_orig/255.\n",
    "\n",
    "# Reshape\n",
    "Y_train = Y_train_orig.T\n",
    "Y_test = Y_test_orig.T\n",
    "\n",
    "print (\"number of training examples = \" + str(X_train.shape[0]))\n",
    "print (\"number of test examples = \" + str(X_test.shape[0]))\n",
    "print (\"X_train shape: \" + str(X_train.shape))\n",
    "print (\"Y_train shape: \" + str(Y_train.shape))\n",
    "print (\"X_test shape: \" + str(X_test.shape))\n",
    "print (\"Y_test shape: \" + str(Y_test.shape))"
   ]
  },
  {
   "cell_type": "markdown",
   "metadata": {},
   "source": [
    "You can display the images contained in the dataset. Images are **64x64** pixels in RGB format (3 channels)."
   ]
  },
  {
   "cell_type": "code",
   "execution_count": 3,
   "metadata": {},
   "outputs": [
    {
     "data": {
      "image/png": "[encoded data removed]",
      "text/plain": [
       "<Figure size 432x288 with 1 Axes>"
      ]
     },
     "metadata": {
      "needs_background": "light"
     },
     "output_type": "display_data"
    }
   ],
   "source": [
    "index = 124\n",
    "plt.imshow(X_train_orig[index]) #display sample training image\n",
    "plt.show()"
   ]
  },
  {
   "cell_type": "markdown",
   "metadata": {},
   "source": [
    "<a name='2'></a>\n",
    "## 2 - Layers in TF Keras \n",
    "\n",
    "In the previous assignment, you created layers manually in numpy. In TF Keras, you don't have to write code directly to create layers. Rather, TF Keras has pre-defined layers you can use. \n",
    "\n",
    "When you create a layer in TF Keras, you are creating a function that takes some input and transforms it into an output you can reuse later. Nice and easy! "
   ]
  },
  {
   "cell_type": "markdown",
   "metadata": {},
   "source": [
    "<a name='3'></a>\n",
    "## 3 - The Sequential API\n",
    "\n",
    "In the previous assignment, you built helper functions using `numpy` to understand the mechanics behind convolutional neural networks. Most practical applications of deep learning today are built using programming frameworks, which have many built-in functions you can simply call. Keras is a high-level abstraction built on top of TensorFlow, which allows for even more simplified and optimized model creation and training. \n",
    "\n",
    "For the first part of this assignment, you'll create a model using TF Keras' Sequential API, which allows you to build layer by layer, and is ideal for building models where each layer has **exactly one** input tensor and **one** output tensor. \n",
    "\n",
    "As you'll see, using the Sequential API is simple and straightforward, but is only appropriate for simpler, more straightforward tasks. Later in this notebook you'll spend some time building with a more flexible, powerful alternative: the Functional API. \n",
    " "
   ]
  },
  {
   "cell_type": "markdown",
   "metadata": {},
   "source": [
    "<a name='3-1'></a>\n",
    "### 3.1 - Create the Sequential Model\n",
    "\n",
    "As mentioned earlier, the TensorFlow Keras Sequential API can be used to build simple models with layer operations that proceed in a sequential order. \n",
    "\n",
    "You can also add layers incrementally to a Sequential model with the `.add()` method, or remove them using the `.pop()` method, much like you would in a regular Python list.\n",
    "\n",
    "Actually, you can think of a Sequential model as behaving like a list of layers. Like Python lists, Sequential layers are ordered, and the order in which they are specified matters.  If your model is non-linear or contains layers with multiple inputs or outputs, a Sequential model wouldn't be the right choice!\n",
    "\n",
    "For any layer construction in Keras, you'll need to specify the input shape in advance. This is because in Keras, the shape of the weights is based on the shape of the inputs. The weights are only created when the model first sees some input data. Sequential models can be created by passing a list of layers to the Sequential constructor, like you will do in the next assignment.\n",
    "\n",
    "<a name='ex-1'></a>\n",
    "### Exercise 1 - happyModel\n",
    "\n",
    "Implement the `happyModel` function below to build the following model: `ZEROPAD2D -> CONV2D -> BATCHNORM -> RELU -> MAXPOOL -> FLATTEN -> DENSE`. Take help from [tf.keras.layers](https://www.tensorflow.org/api_docs/python/tf/keras/layers) \n",
    "\n",
    "Also, plug in the following parameters for all the steps:\n",
    "\n",
    " - [ZeroPadding2D](https://www.tensorflow.org/api_docs/python/tf/keras/layers/ZeroPadding2D): padding 3, input shape 64 x 64 x 3\n",
    " - [Conv2D](https://www.tensorflow.org/api_docs/python/tf/keras/layers/Conv2D): Use 32 7x7 filters, stride 1\n",
    " - [BatchNormalization](https://www.tensorflow.org/api_docs/python/tf/keras/layers/BatchNormalization): for axis 3\n",
    " - [ReLU](https://www.tensorflow.org/api_docs/python/tf/keras/layers/ReLU)\n",
    " - [MaxPool2D](https://www.tensorflow.org/api_docs/python/tf/keras/layers/MaxPool2D): Using default parameters\n",
    " - [Flatten](https://www.tensorflow.org/api_docs/python/tf/keras/layers/Flatten) the previous output.\n",
    " - Fully-connected ([Dense](https://www.tensorflow.org/api_docs/python/tf/keras/layers/Dense)) layer: Apply a fully connected layer with 1 neuron and a sigmoid activation. \n",
    " \n",
    " \n",
    " **Hint:**\n",
    " \n",
    " Use **tfl** as shorthand for **tensorflow.keras.layers**"
   ]
  },
  {
   "cell_type": "code",
   "execution_count": 16,
   "metadata": {
    "deletable": false,
    "nbgrader": {
     "cell_type": "code",
     "checksum": "95d28b191f257bdd5b70c7b8952559d5",
     "grade": false,
     "grade_id": "cell-0e56d3fc28b69aec",
     "locked": false,
     "schema_version": 3,
     "solution": true,
     "task": false
    }
   },
   "outputs": [],
   "source": [
    "# GRADED FUNCTION: happyModel\n",
    "\n",
    "def happyModel():\n",
    "    \"\"\"\n",
    "    Implements the forward propagation for the binary classification model:\n",
    "    ZEROPAD2D -> CONV2D -> BATCHNORM -> RELU -> MAXPOOL -> FLATTEN -> DENSE\n",
    "    \n",
    "    Note that for simplicity and grading purposes, you'll hard-code all the values\n",
    "    such as the stride and kernel (filter) sizes. \n",
    "    Normally, functions should take these values as function parameters.\n",
    "    \n",
    "    Arguments:\n",
    "    None\n",
    "\n",
    "    Returns:\n",
    "    model -- TF Keras model (object containing the information for the entire training process) \n",
    "    \"\"\"\n",
    "    model = tf.keras.Sequential([\n",
    "            ## ZeroPadding2D with padding 3, input shape of 64 x 64 x 3\n",
    "            \n",
    "            ## Conv2D with 32 7x7 filters and stride of 1\n",
    "            \n",
    "            ## BatchNormalization for axis 3\n",
    "            \n",
    "            ## ReLU\n",
    "            \n",
    "            ## Max Pooling 2D with default parameters\n",
    "            \n",
    "            ## Flatten layer\n",
    "            \n",
    "            ## Dense layer with 1 unit for output & 'sigmoid' activation\n",
    "            \n",
    "            # YOUR CODE STARTS HERE\n",
    "        tf.keras.layers.ZeroPadding2D(padding=3, input_shape=(64,64,3)),\n",
    "        tf.keras.layers.Conv2D(filters=32, kernel_size=7),\n",
    "        tf.keras.layers.BatchNormalization(axis=3),\n",
    "        tf.keras.layers.ReLU(),\n",
    "        tf.keras.layers.MaxPooling2D(),\n",
    "        tf.keras.layers.Flatten(),\n",
    "        tf.keras.layers.Dense(1, activation='sigmoid')\n",
    "            \n",
    "            # YOUR CODE ENDS HERE\n",
    "        ])\n",
    "    \n",
    "    return model"
   ]
  },
  {
   "cell_type": "code",
   "execution_count": 17,
   "metadata": {
    "deletable": false,
    "editable": false,
    "nbgrader": {
     "cell_type": "code",
     "checksum": "8d3575c950e2e78149be2d05d671c80d",
     "grade": true,
     "grade_id": "cell-e3e1046e5c33d775",
     "locked": true,
     "points": 10,
     "schema_version": 3,
     "solution": false,
     "task": false
    }
   },
   "outputs": [
    {
     "name": "stdout",
     "output_type": "stream",
     "text": [
      "['ZeroPadding2D', (None, 70, 70, 3), 0, ((3, 3), (3, 3))]\n",
      "['Conv2D', (None, 64, 64, 32), 4736, 'valid', 'linear', 'GlorotUniform']\n",
      "['BatchNormalization', (None, 64, 64, 32), 128]\n",
      "['ReLU', (None, 64, 64, 32), 0]\n",
      "['MaxPooling2D', (None, 32, 32, 32), 0, (2, 2), (2, 2), 'valid']\n",
      "['Flatten', (None, 32768), 0]\n",
      "['Dense', (None, 1), 32769, 'sigmoid']\n",
      "\u001b[32mAll tests passed!\u001b[0m\n"
     ]
    }
   ],
   "source": [
    "happy_model = happyModel()\n",
    "# Print a summary for each layer\n",
    "for layer in summary(happy_model):\n",
    "    print(layer)\n",
    "    \n",
    "output = [['ZeroPadding2D', (None, 70, 70, 3), 0, ((3, 3), (3, 3))],\n",
    "            ['Conv2D', (None, 64, 64, 32), 4736, 'valid', 'linear', 'GlorotUniform'],\n",
    "            ['BatchNormalization', (None, 64, 64, 32), 128],\n",
    "            ['ReLU', (None, 64, 64, 32), 0],\n",
    "            ['MaxPooling2D', (None, 32, 32, 32), 0, (2, 2), (2, 2), 'valid'],\n",
    "            ['Flatten', (None, 32768), 0],\n",
    "            ['Dense', (None, 1), 32769, 'sigmoid']]\n",
    "    \n",
    "comparator(summary(happy_model), output)"
   ]
  },
  {
   "cell_type": "markdown",
   "metadata": {},
   "source": [
    "Now that your model is created, you can compile it for training with an optimizer and loss of your choice. When the string `accuracy` is specified as a metric, the type of accuracy used will be automatically converted based on the loss function used. This is one of the many optimizations built into TensorFlow that make your life easier! If you'd like to read more on how the compiler operates, check the docs [here](https://www.tensorflow.org/api_docs/python/tf/keras/Model#compile)."
   ]
  },
  {
   "cell_type": "code",
   "execution_count": 18,
   "metadata": {},
   "outputs": [],
   "source": [
    "happy_model.compile(optimizer='adam',\n",
    "                   loss='binary_crossentropy',\n",
    "                   metrics=['accuracy'])"
   ]
  },
  {
   "cell_type": "markdown",
   "metadata": {},
   "source": [
    "It's time to check your model's parameters with the `.summary()` method. This will display the types of layers you have, the shape of the outputs, and how many parameters are in each layer. "
   ]
  },
  {
   "cell_type": "code",
   "execution_count": 19,
   "metadata": {},
   "outputs": [
    {
     "name": "stdout",
     "output_type": "stream",
     "text": [
      "Model: \"sequential_1\"\n",
      "_________________________________________________________________\n",
      "Layer (type)                 Output Shape              Param #   \n",
      "=================================================================\n",
      "zero_padding2d_3 (ZeroPaddin (None, 70, 70, 3)         0         \n",
      "_________________________________________________________________\n",
      "conv2d_2 (Conv2D)            (None, 64, 64, 32)        4736      \n",
      "_________________________________________________________________\n",
      "batch_normalization_2 (Batch (None, 64, 64, 32)        128       \n",
      "_________________________________________________________________\n",
      "re_lu (ReLU)                 (None, 64, 64, 32)        0         \n",
      "_________________________________________________________________\n",
      "max_pooling2d_1 (MaxPooling2 (None, 32, 32, 32)        0         \n",
      "_________________________________________________________________\n",
      "flatten_2 (Flatten)          (None, 32768)             0         \n",
      "_________________________________________________________________\n",
      "dense_1 (Dense)              (None, 1)                 32769     \n",
      "=================================================================\n",
      "Total params: 37,633\n",
      "Trainable params: 37,569\n",
      "Non-trainable params: 64\n",
      "_________________________________________________________________\n"
     ]
    }
   ],
   "source": [
    "happy_model.summary()"
   ]
  },
  {
   "cell_type": "markdown",
   "metadata": {},
   "source": [
    "<a name='3-2'></a>\n",
    "### 3.2 - Train and Evaluate the Model\n",
    "\n",
    "After creating the model, compiling it with your choice of optimizer and loss function, and doing a sanity check on its contents, you are now ready to build! \n",
    "\n",
    "Simply call `.fit()` to train. That's it! No need for mini-batching, saving, or complex backpropagation computations. That's all been done for you, as you're using a TensorFlow dataset with the batches specified already. You do have the option to specify epoch number or minibatch size if you like (for example, in the case of an un-batched dataset)."
   ]
  },
  {
   "cell_type": "code",
   "execution_count": 20,
   "metadata": {},
   "outputs": [
    {
     "name": "stdout",
     "output_type": "stream",
     "text": [
      "Epoch 1/10\n",
      "38/38 [==============================] - 4s 100ms/step - loss: 1.0273 - accuracy: 0.7033\n",
      "Epoch 2/10\n",
      "38/38 [==============================] - 4s 95ms/step - loss: 0.3613 - accuracy: 0.8733\n",
      "Epoch 3/10\n",
      "38/38 [==============================] - 4s 97ms/step - loss: 0.1428 - accuracy: 0.9467\n",
      "Epoch 4/10\n",
      "38/38 [==============================] - 4s 93ms/step - loss: 0.1196 - accuracy: 0.9500\n",
      "Epoch 5/10\n",
      "38/38 [==============================] - 4s 93ms/step - loss: 0.1464 - accuracy: 0.9467\n",
      "Epoch 6/10\n",
      "38/38 [==============================] - 4s 97ms/step - loss: 0.0805 - accuracy: 0.9733\n",
      "Epoch 7/10\n",
      "38/38 [==============================] - 4s 95ms/step - loss: 0.1107 - accuracy: 0.9533\n",
      "Epoch 8/10\n",
      "38/38 [==============================] - 4s 97ms/step - loss: 0.0955 - accuracy: 0.9717\n",
      "Epoch 9/10\n",
      "38/38 [==============================] - 4s 95ms/step - loss: 0.0692 - accuracy: 0.9767\n",
      "Epoch 10/10\n",
      "38/38 [==============================] - 4s 95ms/step - loss: 0.1413 - accuracy: 0.9483\n"
     ]
    },
    {
     "data": {
      "text/plain": [
       "<tensorflow.python.keras.callbacks.History at 0x7f17afc262d0>"
      ]
     },
     "execution_count": 20,
     "metadata": {},
     "output_type": "execute_result"
    }
   ],
   "source": [
    "happy_model.fit(X_train, Y_train, epochs=10, batch_size=16)"
   ]
  },
  {
   "cell_type": "markdown",
   "metadata": {},
   "source": [
    "After that completes, just use `.evaluate()` to evaluate against your test set. This function will print the value of the loss function and the performance metrics specified during the compilation of the model. In this case, the `binary_crossentropy` and the `accuracy` respectively."
   ]
  },
  {
   "cell_type": "code",
   "execution_count": 21,
   "metadata": {},
   "outputs": [
    {
     "name": "stdout",
     "output_type": "stream",
     "text": [
      "5/5 [==============================] - 0s 24ms/step - loss: 0.1555 - accuracy: 0.9333\n"
     ]
    },
    {
     "data": {
      "text/plain": [
       "[0.15552066266536713, 0.9333333373069763]"
      ]
     },
     "execution_count": 21,
     "metadata": {},
     "output_type": "execute_result"
    }
   ],
   "source": [
    "happy_model.evaluate(X_test, Y_test)"
   ]
  },
  {
   "cell_type": "markdown",
   "metadata": {},
   "source": [
    "Easy, right? But what if you need to build a model with shared layers, branches, or multiple inputs and outputs? This is where Sequential, with its beautifully simple yet limited functionality, won't be able to help you. \n",
    "\n",
    "Next up: Enter the Functional API, your slightly more complex, highly flexible friend.  "
   ]
  },
  {
   "cell_type": "markdown",
   "metadata": {},
   "source": [
    "<a name='4'></a>\n",
    "## 4 - The Functional API"
   ]
  },
  {
   "cell_type": "markdown",
   "metadata": {},
   "source": [
    "Welcome to the second half of the assignment, where you'll use Keras' flexible [Functional API](https://www.tensorflow.org/guide/keras/functional) to build a ConvNet that can differentiate between 6 sign language digits. \n",
    "\n",
    "The Functional API can handle models with non-linear topology, shared layers, as well as layers with multiple inputs or outputs. Imagine that, where the Sequential API requires the model to move in a linear fashion through its layers, the Functional API allows much more flexibility. Where Sequential is a straight line, a Functional model is a graph, where the nodes of the layers can connect in many more ways than one. \n",
    "\n",
    "In the visual example below, the one possible direction of the movement Sequential model is shown in contrast to a skip connection, which is just one of the many ways a Functional model can be constructed. A skip connection, as you might have guessed, skips some layer in the network and feeds the output to a later layer in the network. Don't worry, you'll be spending more time with skip connections very soon! "
   ]
  },
  {
   "cell_type": "markdown",
   "metadata": {},
   "source": [
    "<img src=\"images/seq_vs_func.png\" style=\"width:350px;height:200px;\">"
   ]
  },
  {
   "cell_type": "markdown",
   "metadata": {},
   "source": [
    "<a name='4-1'></a>\n",
    "### 4.1 - Load the SIGNS Dataset\n",
    "\n",
    "As a reminder, the SIGNS dataset is a collection of 6 signs representing numbers from 0 to 5."
   ]
  },
  {
   "cell_type": "code",
   "execution_count": 22,
   "metadata": {},
   "outputs": [],
   "source": [
    "# Loading the data (signs)\n",
    "X_train_orig, Y_train_orig, X_test_orig, Y_test_orig, classes = load_signs_dataset()"
   ]
  },
  {
   "cell_type": "markdown",
   "metadata": {},
   "source": [
    "<img src=\"images/SIGNS.png\" style=\"width:800px;height:300px;\">\n",
    "\n",
    "The next cell will show you an example of a labelled image in the dataset. Feel free to change the value of `index` below and re-run to see different examples. "
   ]
  },
  {
   "cell_type": "code",
   "execution_count": 23,
   "metadata": {},
   "outputs": [
    {
     "name": "stdout",
     "output_type": "stream",
     "text": [
      "y = 4\n"
     ]
    },
    {
     "data": {
      "image/png": "[encoded data removed]",
      "text/plain": [
       "<Figure size 432x288 with 1 Axes>"
      ]
     },
     "metadata": {
      "needs_background": "light"
     },
     "output_type": "display_data"
    }
   ],
   "source": [
    "# Example of an image from the dataset\n",
    "index = 9\n",
    "plt.imshow(X_train_orig[index])\n",
    "print (\"y = \" + str(np.squeeze(Y_train_orig[:, index])))"
   ]
  },
  {
   "cell_type": "markdown",
   "metadata": {},
   "source": [
    "<a name='4-2'></a>\n",
    "### 4.2 - Split the Data into Train/Test Sets\n",
    "\n",
    "In Course 2, you built a fully-connected network for this dataset. But since this is an image dataset, it is more natural to apply a ConvNet to it.\n",
    "\n",
    "To get started, let's examine the shapes of your data. "
   ]
  },
  {
   "cell_type": "code",
   "execution_count": 24,
   "metadata": {},
   "outputs": [
    {
     "name": "stdout",
     "output_type": "stream",
     "text": [
      "number of training examples = 1080\n",
      "number of test examples = 120\n",
      "X_train shape: (1080, 64, 64, 3)\n",
      "Y_train shape: (1080, 6)\n",
      "X_test shape: (120, 64, 64, 3)\n",
      "Y_test shape: (120, 6)\n"
     ]
    }
   ],
   "source": [
    "X_train = X_train_orig/255.\n",
    "X_test = X_test_orig/255.\n",
    "Y_train = convert_to_one_hot(Y_train_orig, 6).T\n",
    "Y_test = convert_to_one_hot(Y_test_orig, 6).T\n",
    "print (\"number of training examples = \" + str(X_train.shape[0]))\n",
    "print (\"number of test examples = \" + str(X_test.shape[0]))\n",
    "print (\"X_train shape: \" + str(X_train.shape))\n",
    "print (\"Y_train shape: \" + str(Y_train.shape))\n",
    "print (\"X_test shape: \" + str(X_test.shape))\n",
    "print (\"Y_test shape: \" + str(Y_test.shape))"
   ]
  },
  {
   "cell_type": "markdown",
   "metadata": {},
   "source": [
    "<a name='4-3'></a>\n",
    "### 4.3 - Forward Propagation\n",
    "\n",
    "In TensorFlow, there are built-in functions that implement the convolution steps for you. By now, you should be familiar with how TensorFlow builds computational graphs. In the [Functional API](https://www.tensorflow.org/guide/keras/functional), you create a graph of layers. This is what allows such great flexibility.\n",
    "\n",
    "However, the following model could also be defined using the Sequential API since the information flow is on a single line. But don't deviate. What we want you to learn is to use the functional API.\n",
    "\n",
    "Begin building your graph of layers by creating an input node that functions as a callable object:\n",
    "\n",
    "- **input_img = tf.keras.Input(shape=input_shape):** \n",
    "\n",
    "Then, create a new node in the graph of layers by calling a layer on the `input_img` object: \n",
    "\n",
    "- **tf.keras.layers.Conv2D(filters= ... , kernel_size= ... , padding='same')(input_img):** Read the full documentation on [Conv2D](https://www.tensorflow.org/api_docs/python/tf/keras/layers/Conv2D).\n",
    "\n",
    "- **tf.keras.layers.MaxPool2D(pool_size=(f, f), strides=(s, s), padding='same'):** `MaxPool2D()` downsamples your input using a window of size (f, f) and strides of size (s, s) to carry out max pooling over each window.  For max pooling, you usually operate on a single example at a time and a single channel at a time. Read the full documentation on [MaxPool2D](https://www.tensorflow.org/api_docs/python/tf/keras/layers/MaxPool2D).\n",
    "\n",
    "- **tf.keras.layers.ReLU():** computes the elementwise ReLU of Z (which can be any shape). You can read the full documentation on [ReLU](https://www.tensorflow.org/api_docs/python/tf/keras/layers/ReLU).\n",
    "\n",
    "- **tf.keras.layers.Flatten()**: given a tensor \"P\", this function takes each training (or test) example in the batch and flattens it into a 1D vector.  \n",
    "\n",
    "    * If a tensor P has the shape (batch_size,h,w,c), it returns a flattened tensor with shape (batch_size, k), where $k=h \\times w \\times c$.  \"k\" equals the product of all the dimension sizes other than the first dimension.\n",
    "    \n",
    "    * For example, given a tensor with dimensions [100, 2, 3, 4], it flattens the tensor to be of shape [100, 24], where 24 = 2 * 3 * 4.  You can read the full documentation on [Flatten](https://www.tensorflow.org/api_docs/python/tf/keras/layers/Flatten).\n",
    "\n",
    "- **tf.keras.layers.Dense(units= ... , activation='softmax')(F):** given the flattened input F, it returns the output computed using a fully connected layer. You can read the full documentation on [Dense](https://www.tensorflow.org/api_docs/python/tf/keras/layers/Dense).\n",
    "\n",
    "In the last function above (`tf.keras.layers.Dense()`), the fully connected layer automatically initializes weights in the graph and keeps on training them as you train the model. Hence, you did not need to initialize those weights when initializing the parameters.\n",
    "\n",
    "Lastly, before creating the model, you'll need to define the output using the last of the function's compositions (in this example, a Dense layer): \n",
    "\n",
    "- **outputs = tf.keras.layers.Dense(units=6, activation='softmax')(F)**\n",
    "\n",
    "\n",
    "#### Window, kernel, filter, pool\n",
    "\n",
    "The words \"kernel\" and \"filter\" are used to refer to the same thing. The word \"filter\" accounts for the amount of \"kernels\" that will be used in a single convolution layer. \"Pool\" is the name of the operation that takes the max or average value of the kernels. \n",
    "\n",
    "This is why the parameter `pool_size` refers to `kernel_size`, and you use `(f,f)` to refer to the filter size. \n",
    "\n",
    "Pool size and kernel size refer to the same thing in different objects - They refer to the shape of the window where the operation takes place. "
   ]
  },
  {
   "cell_type": "markdown",
   "metadata": {},
   "source": [
    "<a name='ex-2'></a>\n",
    "### Exercise 2 - convolutional_model\n",
    "\n",
    "Implement the `convolutional_model` function below to build the following model: `CONV2D -> RELU -> MAXPOOL -> CONV2D -> RELU -> MAXPOOL -> FLATTEN -> DENSE`. Use the functions above! \n",
    "\n",
    "Also, plug in the following parameters for all the steps:\n",
    "\n",
    " - [Conv2D](https://www.tensorflow.org/api_docs/python/tf/keras/layers/Conv2D): Use 8 4 by 4 filters, stride 1, padding is \"SAME\"\n",
    " - [ReLU](https://www.tensorflow.org/api_docs/python/tf/keras/layers/ReLU)\n",
    " - [MaxPool2D](https://www.tensorflow.org/api_docs/python/tf/keras/layers/MaxPool2D): Use an 8 by 8 filter size and an 8 by 8 stride, padding is \"SAME\"\n",
    " - **Conv2D**: Use 16 2 by 2 filters, stride 1, padding is \"SAME\"\n",
    " - **ReLU**\n",
    " - **MaxPool2D**: Use a 4 by 4 filter size and a 4 by 4 stride, padding is \"SAME\"\n",
    " - [Flatten](https://www.tensorflow.org/api_docs/python/tf/keras/layers/Flatten) the previous output.\n",
    " - Fully-connected ([Dense](https://www.tensorflow.org/api_docs/python/tf/keras/layers/Dense)) layer: Apply a fully connected layer with 6 neurons and a softmax activation. "
   ]
  },
  {
   "cell_type": "code",
   "execution_count": 37,
   "metadata": {
    "deletable": false,
    "nbgrader": {
     "cell_type": "code",
     "checksum": "f58643806aa8380c96225fc8b4c5e7aa",
     "grade": false,
     "grade_id": "cell-dac51744a9e03f51",
     "locked": false,
     "schema_version": 3,
     "solution": true,
     "task": false
    }
   },
   "outputs": [],
   "source": [
    "# GRADED FUNCTION: convolutional_model\n",
    "\n",
    "def convolutional_model(input_shape):\n",
    "    \"\"\"\n",
    "    Implements the forward propagation for the model:\n",
    "    CONV2D -> RELU -> MAXPOOL -> CONV2D -> RELU -> MAXPOOL -> FLATTEN -> DENSE\n",
    "    \n",
    "    Note that for simplicity and grading purposes, you'll hard-code some values\n",
    "    such as the stride and kernel (filter) sizes. \n",
    "    Normally, functions should take these values as function parameters.\n",
    "    \n",
    "    Arguments:\n",
    "    input_img -- input dataset, of shape (input_shape)\n",
    "\n",
    "    Returns:\n",
    "    model -- TF Keras model (object containing the information for the entire training process) \n",
    "    \"\"\"\n",
    "\n",
    "    input_img = tf.keras.Input(shape=input_shape)\n",
    "    ## CONV2D: 8 filters 4x4, stride of 1, padding 'SAME'\n",
    "    # Z1 = None\n",
    "    ## RELU\n",
    "    # A1 = None\n",
    "    ## MAXPOOL: window 8x8, stride 8, padding 'SAME'\n",
    "    # P1 = None\n",
    "    ## CONV2D: 16 filters 2x2, stride 1, padding 'SAME'\n",
    "    # Z2 = None\n",
    "    ## RELU\n",
    "    # A2 = None\n",
    "    ## MAXPOOL: window 4x4, stride 4, padding 'SAME'\n",
    "    # P2 = None\n",
    "    ## FLATTEN\n",
    "    # F = None\n",
    "    ## Dense layer\n",
    "    ## 6 neurons in output layer. Hint: one of the arguments should be \"activation='softmax'\" \n",
    "    # outputs = None\n",
    "    # YOUR CODE STARTS HERE\n",
    "    Z1 = tf.keras.layers.Conv2D(filters=8, kernel_size=4, strides=(1,1), padding='same')(input_img)\n",
    "    A1 = tf.keras.layers.ReLU()(Z1)\n",
    "    P1 = tf.keras.layers.MaxPooling2D(pool_size=(8,8), strides=8, padding='same')(A1)\n",
    "    Z2 = tf.keras.layers.Conv2D(filters=16, kernel_size=2, strides=(1,1), padding='same')(P1)\n",
    "    A2 = tf.keras.layers.ReLU()(Z2)\n",
    "    P2 = tf.keras.layers.MaxPooling2D(pool_size=(4,4), strides=4, padding='same')(A2)\n",
    "    F = tf.keras.layers.Flatten()(P2)\n",
    "    outputs = tf.keras.layers.Dense(6, activation='softmax')(F)\n",
    "    # YOUR CODE ENDS HERE\n",
    "    model = tf.keras.Model(inputs=input_img, outputs=outputs)\n",
    "    return model"
   ]
  },
  {
   "cell_type": "code",
   "execution_count": 38,
   "metadata": {
    "deletable": false,
    "editable": false,
    "nbgrader": {
     "cell_type": "code",
     "checksum": "483d626949930a0b0ef20997e7c6ba72",
     "grade": true,
     "grade_id": "cell-45d22e92042174c9",
     "locked": true,
     "points": 10,
     "schema_version": 3,
     "solution": false,
     "task": false
    }
   },
   "outputs": [
    {
     "name": "stdout",
     "output_type": "stream",
     "text": [
      "Model: \"functional_2\"\n",
      "_________________________________________________________________\n",
      "Layer (type)                 Output Shape              Param #   \n",
      "=================================================================\n",
      "input_7 (InputLayer)         [(None, 64, 64, 3)]       0         \n",
      "_________________________________________________________________\n",
      "conv2d_8 (Conv2D)            (None, 64, 64, 8)         392       \n",
      "_________________________________________________________________\n",
      "re_lu_5 (ReLU)               (None, 64, 64, 8)         0         \n",
      "_________________________________________________________________\n",
      "max_pooling2d_4 (MaxPooling2 (None, 8, 8, 8)           0         \n",
      "_________________________________________________________________\n",
      "conv2d_9 (Conv2D)            (None, 8, 8, 16)          528       \n",
      "_________________________________________________________________\n",
      "re_lu_6 (ReLU)               (None, 8, 8, 16)          0         \n",
      "_________________________________________________________________\n",
      "max_pooling2d_5 (MaxPooling2 (None, 2, 2, 16)          0         \n",
      "_________________________________________________________________\n",
      "flatten_4 (Flatten)          (None, 64)                0         \n",
      "_________________________________________________________________\n",
      "dense_3 (Dense)              (None, 6)                 390       \n",
      "=================================================================\n",
      "Total params: 1,310\n",
      "Trainable params: 1,310\n",
      "Non-trainable params: 0\n",
      "_________________________________________________________________\n",
      "\u001b[32mAll tests passed!\u001b[0m\n"
     ]
    }
   ],
   "source": [
    "conv_model = convolutional_model((64, 64, 3))\n",
    "conv_model.compile(optimizer='adam',\n",
    "                  loss='categorical_crossentropy',\n",
    "                  metrics=['accuracy'])\n",
    "conv_model.summary()\n",
    "    \n",
    "output = [['InputLayer', [(None, 64, 64, 3)], 0],\n",
    "        ['Conv2D', (None, 64, 64, 8), 392, 'same', 'linear', 'GlorotUniform'],\n",
    "        ['ReLU', (None, 64, 64, 8), 0],\n",
    "        ['MaxPooling2D', (None, 8, 8, 8), 0, (8, 8), (8, 8), 'same'],\n",
    "        ['Conv2D', (None, 8, 8, 16), 528, 'same', 'linear', 'GlorotUniform'],\n",
    "        ['ReLU', (None, 8, 8, 16), 0],\n",
    "        ['MaxPooling2D', (None, 2, 2, 16), 0, (4, 4), (4, 4), 'same'],\n",
    "        ['Flatten', (None, 64), 0],\n",
    "        ['Dense', (None, 6), 390, 'softmax']]\n",
    "    \n",
    "comparator(summary(conv_model), output)"
   ]
  },
  {
   "cell_type": "markdown",
   "metadata": {},
   "source": [
    "Both the Sequential and Functional APIs return a TF Keras model object. The only difference is how inputs are handled inside the object model! "
   ]
  },
  {
   "cell_type": "markdown",
   "metadata": {},
   "source": [
    "<a name='4-4'></a>\n",
    "### 4.4 - Train the Model"
   ]
  },
  {
   "cell_type": "code",
   "execution_count": 39,
   "metadata": {},
   "outputs": [
    {
     "name": "stdout",
     "output_type": "stream",
     "text": [
      "Epoch 1/100\n",
      "17/17 [==============================] - 2s 107ms/step - loss: 1.8023 - accuracy: 0.1593 - val_loss: 1.7914 - val_accuracy: 0.1583\n",
      "Epoch 2/100\n",
      "17/17 [==============================] - 2s 106ms/step - loss: 1.7870 - accuracy: 0.1778 - val_loss: 1.7869 - val_accuracy: 0.2083\n",
      "Epoch 3/100\n",
      "17/17 [==============================] - 2s 106ms/step - loss: 1.7805 - accuracy: 0.2204 - val_loss: 1.7822 - val_accuracy: 0.2250\n",
      "Epoch 4/100\n",
      "17/17 [==============================] - 2s 106ms/step - loss: 1.7728 - accuracy: 0.2407 - val_loss: 1.7763 - val_accuracy: 0.2667\n",
      "Epoch 5/100\n",
      "17/17 [==============================] - 2s 106ms/step - loss: 1.7638 - accuracy: 0.2806 - val_loss: 1.7694 - val_accuracy: 0.2750\n",
      "Epoch 6/100\n",
      "17/17 [==============================] - 2s 106ms/step - loss: 1.7506 - accuracy: 0.2769 - val_loss: 1.7594 - val_accuracy: 0.2917\n",
      "Epoch 7/100\n",
      "17/17 [==============================] - 2s 106ms/step - loss: 1.7342 - accuracy: 0.3204 - val_loss: 1.7458 - val_accuracy: 0.3000\n",
      "Epoch 8/100\n",
      "17/17 [==============================] - 2s 106ms/step - loss: 1.7114 - accuracy: 0.3741 - val_loss: 1.7286 - val_accuracy: 0.3750\n",
      "Epoch 9/100\n",
      "17/17 [==============================] - 2s 106ms/step - loss: 1.6826 - accuracy: 0.4009 - val_loss: 1.7039 - val_accuracy: 0.4083\n",
      "Epoch 10/100\n",
      "17/17 [==============================] - 2s 106ms/step - loss: 1.6470 - accuracy: 0.4435 - val_loss: 1.6749 - val_accuracy: 0.4333\n",
      "Epoch 11/100\n",
      "17/17 [==============================] - 2s 106ms/step - loss: 1.6050 - accuracy: 0.4509 - val_loss: 1.6408 - val_accuracy: 0.4250\n",
      "Epoch 12/100\n",
      "17/17 [==============================] - 2s 111ms/step - loss: 1.5569 - accuracy: 0.4593 - val_loss: 1.6019 - val_accuracy: 0.4167\n",
      "Epoch 13/100\n",
      "17/17 [==============================] - 2s 106ms/step - loss: 1.5057 - accuracy: 0.4731 - val_loss: 1.5572 - val_accuracy: 0.4417\n",
      "Epoch 14/100\n",
      "17/17 [==============================] - 2s 106ms/step - loss: 1.4534 - accuracy: 0.4935 - val_loss: 1.5087 - val_accuracy: 0.4583\n",
      "Epoch 15/100\n",
      "17/17 [==============================] - 2s 111ms/step - loss: 1.4034 - accuracy: 0.5167 - val_loss: 1.4618 - val_accuracy: 0.4667\n",
      "Epoch 16/100\n",
      "17/17 [==============================] - 2s 106ms/step - loss: 1.3564 - accuracy: 0.5306 - val_loss: 1.4144 - val_accuracy: 0.4833\n",
      "Epoch 17/100\n",
      "17/17 [==============================] - 2s 107ms/step - loss: 1.3123 - accuracy: 0.5454 - val_loss: 1.3660 - val_accuracy: 0.5000\n",
      "Epoch 18/100\n",
      "17/17 [==============================] - 2s 106ms/step - loss: 1.2704 - accuracy: 0.5528 - val_loss: 1.3266 - val_accuracy: 0.4667\n",
      "Epoch 19/100\n",
      "17/17 [==============================] - 2s 111ms/step - loss: 1.2326 - accuracy: 0.5565 - val_loss: 1.2883 - val_accuracy: 0.4917\n",
      "Epoch 20/100\n",
      "17/17 [==============================] - 2s 106ms/step - loss: 1.1963 - accuracy: 0.5648 - val_loss: 1.2520 - val_accuracy: 0.5000\n",
      "Epoch 21/100\n",
      "17/17 [==============================] - 2s 106ms/step - loss: 1.1634 - accuracy: 0.5759 - val_loss: 1.2167 - val_accuracy: 0.5167\n",
      "Epoch 22/100\n",
      "17/17 [==============================] - 2s 111ms/step - loss: 1.1323 - accuracy: 0.5907 - val_loss: 1.1839 - val_accuracy: 0.5167\n",
      "Epoch 23/100\n",
      "17/17 [==============================] - 2s 107ms/step - loss: 1.1030 - accuracy: 0.6046 - val_loss: 1.1521 - val_accuracy: 0.5417\n",
      "Epoch 24/100\n",
      "17/17 [==============================] - 2s 106ms/step - loss: 1.0766 - accuracy: 0.6167 - val_loss: 1.1228 - val_accuracy: 0.5667\n",
      "Epoch 25/100\n",
      "17/17 [==============================] - 2s 106ms/step - loss: 1.0515 - accuracy: 0.6278 - val_loss: 1.0954 - val_accuracy: 0.5750\n",
      "Epoch 26/100\n",
      "17/17 [==============================] - 2s 100ms/step - loss: 1.0263 - accuracy: 0.6472 - val_loss: 1.0680 - val_accuracy: 0.5833\n",
      "Epoch 27/100\n",
      "17/17 [==============================] - 2s 106ms/step - loss: 1.0040 - accuracy: 0.6537 - val_loss: 1.0438 - val_accuracy: 0.5833\n",
      "Epoch 28/100\n",
      "17/17 [==============================] - 2s 101ms/step - loss: 0.9828 - accuracy: 0.6593 - val_loss: 1.0216 - val_accuracy: 0.5833\n",
      "Epoch 29/100\n",
      "17/17 [==============================] - 2s 106ms/step - loss: 0.9630 - accuracy: 0.6657 - val_loss: 1.0004 - val_accuracy: 0.5833\n",
      "Epoch 30/100\n",
      "17/17 [==============================] - 2s 106ms/step - loss: 0.9444 - accuracy: 0.6694 - val_loss: 0.9810 - val_accuracy: 0.6000\n",
      "Epoch 31/100\n",
      "17/17 [==============================] - 2s 106ms/step - loss: 0.9269 - accuracy: 0.6750 - val_loss: 0.9629 - val_accuracy: 0.6167\n",
      "Epoch 32/100\n",
      "17/17 [==============================] - 2s 107ms/step - loss: 0.9104 - accuracy: 0.6787 - val_loss: 0.9461 - val_accuracy: 0.6250\n",
      "Epoch 33/100\n",
      "17/17 [==============================] - 2s 105ms/step - loss: 0.8952 - accuracy: 0.6898 - val_loss: 0.9306 - val_accuracy: 0.6250\n",
      "Epoch 34/100\n",
      "17/17 [==============================] - 2s 111ms/step - loss: 0.8805 - accuracy: 0.6972 - val_loss: 0.9159 - val_accuracy: 0.6250\n",
      "Epoch 35/100\n",
      "17/17 [==============================] - 2s 106ms/step - loss: 0.8666 - accuracy: 0.7019 - val_loss: 0.9023 - val_accuracy: 0.6500\n",
      "Epoch 36/100\n",
      "17/17 [==============================] - 2s 106ms/step - loss: 0.8535 - accuracy: 0.7074 - val_loss: 0.8896 - val_accuracy: 0.6667\n",
      "Epoch 37/100\n",
      "17/17 [==============================] - 2s 106ms/step - loss: 0.8410 - accuracy: 0.7148 - val_loss: 0.8780 - val_accuracy: 0.6667\n",
      "Epoch 38/100\n",
      "17/17 [==============================] - 2s 106ms/step - loss: 0.8293 - accuracy: 0.7167 - val_loss: 0.8670 - val_accuracy: 0.6667\n",
      "Epoch 39/100\n",
      "17/17 [==============================] - 2s 106ms/step - loss: 0.8175 - accuracy: 0.7222 - val_loss: 0.8569 - val_accuracy: 0.6667\n",
      "Epoch 40/100\n",
      "17/17 [==============================] - 2s 106ms/step - loss: 0.8064 - accuracy: 0.7278 - val_loss: 0.8479 - val_accuracy: 0.6750\n",
      "Epoch 41/100\n",
      "17/17 [==============================] - 2s 106ms/step - loss: 0.7962 - accuracy: 0.7278 - val_loss: 0.8380 - val_accuracy: 0.6750\n",
      "Epoch 42/100\n",
      "17/17 [==============================] - 2s 112ms/step - loss: 0.7860 - accuracy: 0.7324 - val_loss: 0.8293 - val_accuracy: 0.6750\n",
      "Epoch 43/100\n",
      "17/17 [==============================] - 2s 106ms/step - loss: 0.7762 - accuracy: 0.7333 - val_loss: 0.8207 - val_accuracy: 0.6667\n",
      "Epoch 44/100\n",
      "17/17 [==============================] - 2s 106ms/step - loss: 0.7669 - accuracy: 0.7343 - val_loss: 0.8130 - val_accuracy: 0.6667\n",
      "Epoch 45/100\n",
      "17/17 [==============================] - 2s 106ms/step - loss: 0.7579 - accuracy: 0.7370 - val_loss: 0.8060 - val_accuracy: 0.6667\n",
      "Epoch 46/100\n",
      "17/17 [==============================] - 2s 106ms/step - loss: 0.7492 - accuracy: 0.7454 - val_loss: 0.7984 - val_accuracy: 0.6833\n",
      "Epoch 47/100\n",
      "17/17 [==============================] - 2s 106ms/step - loss: 0.7405 - accuracy: 0.7491 - val_loss: 0.7916 - val_accuracy: 0.6750\n",
      "Epoch 48/100\n",
      "17/17 [==============================] - 2s 106ms/step - loss: 0.7324 - accuracy: 0.7509 - val_loss: 0.7858 - val_accuracy: 0.6917\n",
      "Epoch 49/100\n",
      "17/17 [==============================] - 2s 106ms/step - loss: 0.7245 - accuracy: 0.7537 - val_loss: 0.7784 - val_accuracy: 0.6917\n",
      "Epoch 50/100\n",
      "17/17 [==============================] - 2s 108ms/step - loss: 0.7169 - accuracy: 0.7546 - val_loss: 0.7728 - val_accuracy: 0.6917\n",
      "Epoch 51/100\n",
      "17/17 [==============================] - 2s 106ms/step - loss: 0.7091 - accuracy: 0.7611 - val_loss: 0.7676 - val_accuracy: 0.7000\n",
      "Epoch 52/100\n",
      "17/17 [==============================] - 2s 106ms/step - loss: 0.7019 - accuracy: 0.7639 - val_loss: 0.7618 - val_accuracy: 0.7000\n",
      "Epoch 53/100\n",
      "17/17 [==============================] - 2s 106ms/step - loss: 0.6948 - accuracy: 0.7685 - val_loss: 0.7564 - val_accuracy: 0.7167\n",
      "Epoch 54/100\n",
      "17/17 [==============================] - 2s 106ms/step - loss: 0.6876 - accuracy: 0.7694 - val_loss: 0.7515 - val_accuracy: 0.7167\n",
      "Epoch 55/100\n",
      "17/17 [==============================] - 2s 106ms/step - loss: 0.6808 - accuracy: 0.7685 - val_loss: 0.7458 - val_accuracy: 0.7167\n",
      "Epoch 56/100\n",
      "17/17 [==============================] - 2s 111ms/step - loss: 0.6742 - accuracy: 0.7731 - val_loss: 0.7399 - val_accuracy: 0.7167\n",
      "Epoch 57/100\n",
      "17/17 [==============================] - 2s 106ms/step - loss: 0.6676 - accuracy: 0.7750 - val_loss: 0.7354 - val_accuracy: 0.7333\n"
     ]
    },
    {
     "name": "stdout",
     "output_type": "stream",
     "text": [
      "Epoch 58/100\n",
      "17/17 [==============================] - 2s 106ms/step - loss: 0.6610 - accuracy: 0.7778 - val_loss: 0.7302 - val_accuracy: 0.7333\n",
      "Epoch 59/100\n",
      "17/17 [==============================] - 2s 106ms/step - loss: 0.6548 - accuracy: 0.7769 - val_loss: 0.7259 - val_accuracy: 0.7333\n",
      "Epoch 60/100\n",
      "17/17 [==============================] - 2s 106ms/step - loss: 0.6482 - accuracy: 0.7843 - val_loss: 0.7196 - val_accuracy: 0.7333\n",
      "Epoch 61/100\n",
      "17/17 [==============================] - 2s 106ms/step - loss: 0.6424 - accuracy: 0.7861 - val_loss: 0.7154 - val_accuracy: 0.7333\n",
      "Epoch 62/100\n",
      "17/17 [==============================] - 2s 106ms/step - loss: 0.6374 - accuracy: 0.7880 - val_loss: 0.7121 - val_accuracy: 0.7417\n",
      "Epoch 63/100\n",
      "17/17 [==============================] - 2s 106ms/step - loss: 0.6311 - accuracy: 0.7907 - val_loss: 0.7070 - val_accuracy: 0.7417\n",
      "Epoch 64/100\n",
      "17/17 [==============================] - 2s 102ms/step - loss: 0.6251 - accuracy: 0.7954 - val_loss: 0.7005 - val_accuracy: 0.7417\n",
      "Epoch 65/100\n",
      "17/17 [==============================] - 2s 106ms/step - loss: 0.6190 - accuracy: 0.7944 - val_loss: 0.6980 - val_accuracy: 0.7417\n",
      "Epoch 66/100\n",
      "17/17 [==============================] - 2s 106ms/step - loss: 0.6134 - accuracy: 0.8000 - val_loss: 0.6926 - val_accuracy: 0.7417\n",
      "Epoch 67/100\n",
      "17/17 [==============================] - 2s 111ms/step - loss: 0.6081 - accuracy: 0.8065 - val_loss: 0.6862 - val_accuracy: 0.7417\n",
      "Epoch 68/100\n",
      "17/17 [==============================] - 2s 106ms/step - loss: 0.6017 - accuracy: 0.8065 - val_loss: 0.6817 - val_accuracy: 0.7500\n",
      "Epoch 69/100\n",
      "17/17 [==============================] - 2s 106ms/step - loss: 0.5949 - accuracy: 0.8074 - val_loss: 0.6767 - val_accuracy: 0.7500\n",
      "Epoch 70/100\n",
      "17/17 [==============================] - 2s 106ms/step - loss: 0.5892 - accuracy: 0.8130 - val_loss: 0.6714 - val_accuracy: 0.7500\n",
      "Epoch 71/100\n",
      "17/17 [==============================] - 2s 106ms/step - loss: 0.5839 - accuracy: 0.8139 - val_loss: 0.6669 - val_accuracy: 0.7500\n",
      "Epoch 72/100\n",
      "17/17 [==============================] - 2s 106ms/step - loss: 0.5785 - accuracy: 0.8148 - val_loss: 0.6628 - val_accuracy: 0.7500\n",
      "Epoch 73/100\n",
      "17/17 [==============================] - 2s 106ms/step - loss: 0.5734 - accuracy: 0.8167 - val_loss: 0.6586 - val_accuracy: 0.7500\n",
      "Epoch 74/100\n",
      "17/17 [==============================] - 2s 106ms/step - loss: 0.5688 - accuracy: 0.8194 - val_loss: 0.6546 - val_accuracy: 0.7500\n",
      "Epoch 75/100\n",
      "17/17 [==============================] - 2s 106ms/step - loss: 0.5640 - accuracy: 0.8213 - val_loss: 0.6505 - val_accuracy: 0.7500\n",
      "Epoch 76/100\n",
      "17/17 [==============================] - 2s 106ms/step - loss: 0.5588 - accuracy: 0.8259 - val_loss: 0.6452 - val_accuracy: 0.7500\n",
      "Epoch 77/100\n",
      "17/17 [==============================] - 2s 106ms/step - loss: 0.5541 - accuracy: 0.8259 - val_loss: 0.6419 - val_accuracy: 0.7583\n",
      "Epoch 78/100\n",
      "17/17 [==============================] - 2s 102ms/step - loss: 0.5487 - accuracy: 0.8287 - val_loss: 0.6377 - val_accuracy: 0.7583\n",
      "Epoch 79/100\n",
      "17/17 [==============================] - 2s 107ms/step - loss: 0.5446 - accuracy: 0.8287 - val_loss: 0.6339 - val_accuracy: 0.7583\n",
      "Epoch 80/100\n",
      "17/17 [==============================] - 2s 106ms/step - loss: 0.5398 - accuracy: 0.8296 - val_loss: 0.6304 - val_accuracy: 0.7583\n",
      "Epoch 81/100\n",
      "17/17 [==============================] - 2s 106ms/step - loss: 0.5353 - accuracy: 0.8324 - val_loss: 0.6266 - val_accuracy: 0.7583\n",
      "Epoch 82/100\n",
      "17/17 [==============================] - 2s 106ms/step - loss: 0.5310 - accuracy: 0.8324 - val_loss: 0.6231 - val_accuracy: 0.7667\n",
      "Epoch 83/100\n",
      "17/17 [==============================] - 2s 106ms/step - loss: 0.5261 - accuracy: 0.8343 - val_loss: 0.6194 - val_accuracy: 0.7667\n",
      "Epoch 84/100\n",
      "17/17 [==============================] - 2s 101ms/step - loss: 0.5217 - accuracy: 0.8370 - val_loss: 0.6157 - val_accuracy: 0.7667\n",
      "Epoch 85/100\n",
      "17/17 [==============================] - 2s 106ms/step - loss: 0.5174 - accuracy: 0.8370 - val_loss: 0.6123 - val_accuracy: 0.7750\n",
      "Epoch 86/100\n",
      "17/17 [==============================] - 2s 101ms/step - loss: 0.5129 - accuracy: 0.8407 - val_loss: 0.6086 - val_accuracy: 0.7750\n",
      "Epoch 87/100\n",
      "17/17 [==============================] - 2s 106ms/step - loss: 0.5086 - accuracy: 0.8407 - val_loss: 0.6054 - val_accuracy: 0.7750\n",
      "Epoch 88/100\n",
      "17/17 [==============================] - 2s 106ms/step - loss: 0.5042 - accuracy: 0.8426 - val_loss: 0.6010 - val_accuracy: 0.7833\n",
      "Epoch 89/100\n",
      "17/17 [==============================] - 2s 106ms/step - loss: 0.5000 - accuracy: 0.8426 - val_loss: 0.5979 - val_accuracy: 0.7833\n",
      "Epoch 90/100\n",
      "17/17 [==============================] - 2s 106ms/step - loss: 0.4959 - accuracy: 0.8454 - val_loss: 0.5945 - val_accuracy: 0.7833\n",
      "Epoch 91/100\n",
      "17/17 [==============================] - 2s 106ms/step - loss: 0.4915 - accuracy: 0.8491 - val_loss: 0.5907 - val_accuracy: 0.7833\n",
      "Epoch 92/100\n",
      "17/17 [==============================] - 2s 107ms/step - loss: 0.4875 - accuracy: 0.8509 - val_loss: 0.5872 - val_accuracy: 0.8000\n",
      "Epoch 93/100\n",
      "17/17 [==============================] - 2s 106ms/step - loss: 0.4833 - accuracy: 0.8509 - val_loss: 0.5830 - val_accuracy: 0.8167\n",
      "Epoch 94/100\n",
      "17/17 [==============================] - 2s 106ms/step - loss: 0.4793 - accuracy: 0.8546 - val_loss: 0.5797 - val_accuracy: 0.8167\n",
      "Epoch 95/100\n",
      "17/17 [==============================] - 2s 106ms/step - loss: 0.4755 - accuracy: 0.8556 - val_loss: 0.5761 - val_accuracy: 0.8167\n",
      "Epoch 96/100\n",
      "17/17 [==============================] - 2s 106ms/step - loss: 0.4717 - accuracy: 0.8546 - val_loss: 0.5728 - val_accuracy: 0.8250\n",
      "Epoch 97/100\n",
      "17/17 [==============================] - 2s 106ms/step - loss: 0.4680 - accuracy: 0.8574 - val_loss: 0.5691 - val_accuracy: 0.8250\n",
      "Epoch 98/100\n",
      "17/17 [==============================] - 2s 112ms/step - loss: 0.4642 - accuracy: 0.8593 - val_loss: 0.5655 - val_accuracy: 0.8250\n",
      "Epoch 99/100\n",
      "17/17 [==============================] - 2s 111ms/step - loss: 0.4601 - accuracy: 0.8602 - val_loss: 0.5616 - val_accuracy: 0.8250\n",
      "Epoch 100/100\n",
      "17/17 [==============================] - 2s 112ms/step - loss: 0.4563 - accuracy: 0.8620 - val_loss: 0.5578 - val_accuracy: 0.8250\n"
     ]
    }
   ],
   "source": [
    "train_dataset = tf.data.Dataset.from_tensor_slices((X_train, Y_train)).batch(64)\n",
    "test_dataset = tf.data.Dataset.from_tensor_slices((X_test, Y_test)).batch(64)\n",
    "history = conv_model.fit(train_dataset, epochs=100, validation_data=test_dataset)"
   ]
  },
  {
   "cell_type": "markdown",
   "metadata": {},
   "source": [
    "<a name='5'></a>\n",
    "## 5 - History Object \n",
    "\n",
    "The history object is an output of the `.fit()` operation, and provides a record of all the loss and metric values in memory. It's stored as a dictionary that you can retrieve at `history.history`: "
   ]
  },
  {
   "cell_type": "code",
   "execution_count": 40,
   "metadata": {},
   "outputs": [
    {
     "data": {
      "text/plain": [
       "{'loss': [1.8023301362991333,\n",
       "  1.7869582176208496,\n",
       "  1.7805217504501343,\n",
       "  1.7728008031845093,\n",
       "  1.7638226747512817,\n",
       "  1.7506040334701538,\n",
       "  1.7341654300689697,\n",
       "  1.711422085762024,\n",
       "  1.682602882385254,\n",
       "  1.646978497505188,\n",
       "  1.6050113439559937,\n",
       "  1.556917667388916,\n",
       "  1.5057053565979004,\n",
       "  1.4534298181533813,\n",
       "  1.4034183025360107,\n",
       "  1.3563541173934937,\n",
       "  1.3122919797897339,\n",
       "  1.2704020738601685,\n",
       "  1.2326464653015137,\n",
       "  1.1963468790054321,\n",
       "  1.16344153881073,\n",
       "  1.1323400735855103,\n",
       "  1.1029918193817139,\n",
       "  1.0765653848648071,\n",
       "  1.0515273809432983,\n",
       "  1.026250958442688,\n",
       "  1.0039621591567993,\n",
       "  0.9827952980995178,\n",
       "  0.9629909992218018,\n",
       "  0.9444103240966797,\n",
       "  0.9269180297851562,\n",
       "  0.9104019999504089,\n",
       "  0.8952090740203857,\n",
       "  0.8804869651794434,\n",
       "  0.8665667772293091,\n",
       "  0.8534842133522034,\n",
       "  0.840988039970398,\n",
       "  0.8292921781539917,\n",
       "  0.8174622058868408,\n",
       "  0.8064218759536743,\n",
       "  0.7962105870246887,\n",
       "  0.7860413789749146,\n",
       "  0.776246190071106,\n",
       "  0.7669418454170227,\n",
       "  0.7579249143600464,\n",
       "  0.7492308616638184,\n",
       "  0.7405236959457397,\n",
       "  0.7323706746101379,\n",
       "  0.7245327234268188,\n",
       "  0.7169076800346375,\n",
       "  0.7090660929679871,\n",
       "  0.7019438743591309,\n",
       "  0.69483482837677,\n",
       "  0.6876398921012878,\n",
       "  0.6807820796966553,\n",
       "  0.6741805672645569,\n",
       "  0.6676424145698547,\n",
       "  0.661016047000885,\n",
       "  0.6548075079917908,\n",
       "  0.6482325196266174,\n",
       "  0.6424430012702942,\n",
       "  0.6373984813690186,\n",
       "  0.631145715713501,\n",
       "  0.6251075863838196,\n",
       "  0.6190046072006226,\n",
       "  0.6134374737739563,\n",
       "  0.6081445217132568,\n",
       "  0.6016548275947571,\n",
       "  0.5948983430862427,\n",
       "  0.5892348885536194,\n",
       "  0.5838596820831299,\n",
       "  0.578480064868927,\n",
       "  0.573434591293335,\n",
       "  0.5687925219535828,\n",
       "  0.5639709234237671,\n",
       "  0.5587674975395203,\n",
       "  0.5541058778762817,\n",
       "  0.548704981803894,\n",
       "  0.5445917844772339,\n",
       "  0.5398434996604919,\n",
       "  0.5353299379348755,\n",
       "  0.5309889912605286,\n",
       "  0.5260701775550842,\n",
       "  0.5216526389122009,\n",
       "  0.5174040198326111,\n",
       "  0.5128868818283081,\n",
       "  0.5085959434509277,\n",
       "  0.5042288303375244,\n",
       "  0.5000267028808594,\n",
       "  0.49585163593292236,\n",
       "  0.49145475029945374,\n",
       "  0.487528532743454,\n",
       "  0.48333266377449036,\n",
       "  0.4792860150337219,\n",
       "  0.4754645526409149,\n",
       "  0.471682608127594,\n",
       "  0.46797874569892883,\n",
       "  0.46419835090637207,\n",
       "  0.4601038992404938,\n",
       "  0.4562908113002777],\n",
       " 'accuracy': [0.15925925970077515,\n",
       "  0.17777778208255768,\n",
       "  0.2203703671693802,\n",
       "  0.24074074625968933,\n",
       "  0.2805555462837219,\n",
       "  0.2768518626689911,\n",
       "  0.3203703761100769,\n",
       "  0.3740740716457367,\n",
       "  0.4009259343147278,\n",
       "  0.4435185194015503,\n",
       "  0.45092591643333435,\n",
       "  0.4592592716217041,\n",
       "  0.4731481373310089,\n",
       "  0.49351853132247925,\n",
       "  0.5166666507720947,\n",
       "  0.5305555462837219,\n",
       "  0.5453703999519348,\n",
       "  0.5527777671813965,\n",
       "  0.5564814805984497,\n",
       "  0.5648148059844971,\n",
       "  0.5759259462356567,\n",
       "  0.5907407402992249,\n",
       "  0.604629635810852,\n",
       "  0.6166666746139526,\n",
       "  0.6277777552604675,\n",
       "  0.6472222208976746,\n",
       "  0.6537036895751953,\n",
       "  0.6592592597007751,\n",
       "  0.6657407283782959,\n",
       "  0.6694444417953491,\n",
       "  0.675000011920929,\n",
       "  0.6787037253379822,\n",
       "  0.6898148059844971,\n",
       "  0.6972222328186035,\n",
       "  0.7018518447875977,\n",
       "  0.7074074149131775,\n",
       "  0.7148148417472839,\n",
       "  0.7166666388511658,\n",
       "  0.7222222089767456,\n",
       "  0.7277777791023254,\n",
       "  0.7277777791023254,\n",
       "  0.7324073910713196,\n",
       "  0.7333333492279053,\n",
       "  0.7342592477798462,\n",
       "  0.7370370626449585,\n",
       "  0.7453703880310059,\n",
       "  0.7490741014480591,\n",
       "  0.7509258985519409,\n",
       "  0.7537037134170532,\n",
       "  0.7546296119689941,\n",
       "  0.7611111402511597,\n",
       "  0.7638888955116272,\n",
       "  0.7685185074806213,\n",
       "  0.769444465637207,\n",
       "  0.7685185074806213,\n",
       "  0.7731481194496155,\n",
       "  0.7749999761581421,\n",
       "  0.7777777910232544,\n",
       "  0.7768518328666687,\n",
       "  0.7842592597007751,\n",
       "  0.7861111164093018,\n",
       "  0.7879629731178284,\n",
       "  0.7907407283782959,\n",
       "  0.7953703999519348,\n",
       "  0.7944444417953491,\n",
       "  0.800000011920929,\n",
       "  0.8064814805984497,\n",
       "  0.8064814805984497,\n",
       "  0.8074073791503906,\n",
       "  0.8129629492759705,\n",
       "  0.8138889074325562,\n",
       "  0.8148148059844971,\n",
       "  0.8166666626930237,\n",
       "  0.8194444179534912,\n",
       "  0.8212962746620178,\n",
       "  0.8259259462356567,\n",
       "  0.8259259462356567,\n",
       "  0.8287037014961243,\n",
       "  0.8287037014961243,\n",
       "  0.8296296000480652,\n",
       "  0.8324074149131775,\n",
       "  0.8324074149131775,\n",
       "  0.8342592716217041,\n",
       "  0.8370370268821716,\n",
       "  0.8370370268821716,\n",
       "  0.8407407402992249,\n",
       "  0.8407407402992249,\n",
       "  0.8425925970077515,\n",
       "  0.8425925970077515,\n",
       "  0.845370352268219,\n",
       "  0.8490740656852722,\n",
       "  0.8509259223937988,\n",
       "  0.8509259223937988,\n",
       "  0.854629635810852,\n",
       "  0.855555534362793,\n",
       "  0.854629635810852,\n",
       "  0.8574073910713196,\n",
       "  0.8592592477798462,\n",
       "  0.8601852059364319,\n",
       "  0.8620370626449585],\n",
       " 'val_loss': [1.791387915611267,\n",
       "  1.786879301071167,\n",
       "  1.7822285890579224,\n",
       "  1.7762906551361084,\n",
       "  1.7693568468093872,\n",
       "  1.7593951225280762,\n",
       "  1.7458338737487793,\n",
       "  1.7286105155944824,\n",
       "  1.7039494514465332,\n",
       "  1.674856185913086,\n",
       "  1.6408270597457886,\n",
       "  1.6019326448440552,\n",
       "  1.5572075843811035,\n",
       "  1.5087374448776245,\n",
       "  1.4617716073989868,\n",
       "  1.4144482612609863,\n",
       "  1.3659555912017822,\n",
       "  1.3266268968582153,\n",
       "  1.2882940769195557,\n",
       "  1.2519710063934326,\n",
       "  1.2166916131973267,\n",
       "  1.183943271636963,\n",
       "  1.1520881652832031,\n",
       "  1.1227803230285645,\n",
       "  1.095448613166809,\n",
       "  1.068015694618225,\n",
       "  1.0437654256820679,\n",
       "  1.0215734243392944,\n",
       "  1.0003609657287598,\n",
       "  0.9809861779212952,\n",
       "  0.9629189968109131,\n",
       "  0.9461116790771484,\n",
       "  0.930575966835022,\n",
       "  0.9158602356910706,\n",
       "  0.9023084044456482,\n",
       "  0.8895919919013977,\n",
       "  0.8779721856117249,\n",
       "  0.8670499324798584,\n",
       "  0.8568531274795532,\n",
       "  0.847947359085083,\n",
       "  0.8379998803138733,\n",
       "  0.8293108344078064,\n",
       "  0.8207257390022278,\n",
       "  0.8130211234092712,\n",
       "  0.8060238361358643,\n",
       "  0.7983587980270386,\n",
       "  0.7915698885917664,\n",
       "  0.7858197093009949,\n",
       "  0.7783977389335632,\n",
       "  0.7728436589241028,\n",
       "  0.7676107883453369,\n",
       "  0.7617618441581726,\n",
       "  0.7564296722412109,\n",
       "  0.7515164613723755,\n",
       "  0.7458417415618896,\n",
       "  0.7399469614028931,\n",
       "  0.7353910803794861,\n",
       "  0.730171799659729,\n",
       "  0.7258668541908264,\n",
       "  0.7195659875869751,\n",
       "  0.7153674960136414,\n",
       "  0.712089478969574,\n",
       "  0.7069522738456726,\n",
       "  0.7005482316017151,\n",
       "  0.6979736089706421,\n",
       "  0.6926166415214539,\n",
       "  0.6861558556556702,\n",
       "  0.6816866993904114,\n",
       "  0.6767235994338989,\n",
       "  0.6714051365852356,\n",
       "  0.6668984889984131,\n",
       "  0.662818968296051,\n",
       "  0.6586027145385742,\n",
       "  0.654578447341919,\n",
       "  0.6504881978034973,\n",
       "  0.645240068435669,\n",
       "  0.6419063806533813,\n",
       "  0.6376727223396301,\n",
       "  0.6339362859725952,\n",
       "  0.6304373145103455,\n",
       "  0.6266083121299744,\n",
       "  0.6231489777565002,\n",
       "  0.619357168674469,\n",
       "  0.6157220005989075,\n",
       "  0.6122955083847046,\n",
       "  0.6086118221282959,\n",
       "  0.6053721308708191,\n",
       "  0.6009738445281982,\n",
       "  0.5979109406471252,\n",
       "  0.5945351719856262,\n",
       "  0.5906659364700317,\n",
       "  0.5871517062187195,\n",
       "  0.5830287933349609,\n",
       "  0.5797174572944641,\n",
       "  0.5760981440544128,\n",
       "  0.5728356242179871,\n",
       "  0.5691196322441101,\n",
       "  0.5655466318130493,\n",
       "  0.5616298317909241,\n",
       "  0.5578166842460632],\n",
       " 'val_accuracy': [0.15833333134651184,\n",
       "  0.2083333283662796,\n",
       "  0.22499999403953552,\n",
       "  0.2666666805744171,\n",
       "  0.2750000059604645,\n",
       "  0.2916666567325592,\n",
       "  0.30000001192092896,\n",
       "  0.375,\n",
       "  0.40833333134651184,\n",
       "  0.4333333373069763,\n",
       "  0.42500001192092896,\n",
       "  0.4166666567325592,\n",
       "  0.4416666626930237,\n",
       "  0.4583333432674408,\n",
       "  0.46666666865348816,\n",
       "  0.4833333194255829,\n",
       "  0.5,\n",
       "  0.46666666865348816,\n",
       "  0.49166667461395264,\n",
       "  0.5,\n",
       "  0.5166666507720947,\n",
       "  0.5166666507720947,\n",
       "  0.5416666865348816,\n",
       "  0.5666666626930237,\n",
       "  0.574999988079071,\n",
       "  0.5833333134651184,\n",
       "  0.5833333134651184,\n",
       "  0.5833333134651184,\n",
       "  0.5833333134651184,\n",
       "  0.6000000238418579,\n",
       "  0.6166666746139526,\n",
       "  0.625,\n",
       "  0.625,\n",
       "  0.625,\n",
       "  0.6499999761581421,\n",
       "  0.6666666865348816,\n",
       "  0.6666666865348816,\n",
       "  0.6666666865348816,\n",
       "  0.6666666865348816,\n",
       "  0.675000011920929,\n",
       "  0.675000011920929,\n",
       "  0.675000011920929,\n",
       "  0.6666666865348816,\n",
       "  0.6666666865348816,\n",
       "  0.6666666865348816,\n",
       "  0.6833333373069763,\n",
       "  0.675000011920929,\n",
       "  0.6916666626930237,\n",
       "  0.6916666626930237,\n",
       "  0.6916666626930237,\n",
       "  0.699999988079071,\n",
       "  0.699999988079071,\n",
       "  0.7166666388511658,\n",
       "  0.7166666388511658,\n",
       "  0.7166666388511658,\n",
       "  0.7166666388511658,\n",
       "  0.7333333492279053,\n",
       "  0.7333333492279053,\n",
       "  0.7333333492279053,\n",
       "  0.7333333492279053,\n",
       "  0.7333333492279053,\n",
       "  0.7416666746139526,\n",
       "  0.7416666746139526,\n",
       "  0.7416666746139526,\n",
       "  0.7416666746139526,\n",
       "  0.7416666746139526,\n",
       "  0.7416666746139526,\n",
       "  0.75,\n",
       "  0.75,\n",
       "  0.75,\n",
       "  0.75,\n",
       "  0.75,\n",
       "  0.75,\n",
       "  0.75,\n",
       "  0.75,\n",
       "  0.75,\n",
       "  0.7583333253860474,\n",
       "  0.7583333253860474,\n",
       "  0.7583333253860474,\n",
       "  0.7583333253860474,\n",
       "  0.7583333253860474,\n",
       "  0.7666666507720947,\n",
       "  0.7666666507720947,\n",
       "  0.7666666507720947,\n",
       "  0.7749999761581421,\n",
       "  0.7749999761581421,\n",
       "  0.7749999761581421,\n",
       "  0.7833333611488342,\n",
       "  0.7833333611488342,\n",
       "  0.7833333611488342,\n",
       "  0.7833333611488342,\n",
       "  0.800000011920929,\n",
       "  0.8166666626930237,\n",
       "  0.8166666626930237,\n",
       "  0.8166666626930237,\n",
       "  0.824999988079071,\n",
       "  0.824999988079071,\n",
       "  0.824999988079071,\n",
       "  0.824999988079071,\n",
       "  0.824999988079071]}"
      ]
     },
     "execution_count": 40,
     "metadata": {},
     "output_type": "execute_result"
    }
   ],
   "source": [
    "history.history"
   ]
  },
  {
   "cell_type": "markdown",
   "metadata": {},
   "source": [
    "Now visualize the loss over time using `history.history`: "
   ]
  },
  {
   "cell_type": "code",
   "execution_count": 41,
   "metadata": {},
   "outputs": [
    {
     "data": {
      "text/plain": [
       "[Text(0, 0.5, 'Accuracy'), Text(0.5, 0, 'Epoch')]"
      ]
     },
     "execution_count": 41,
     "metadata": {},
     "output_type": "execute_result"
    },
    {
     "data": {
      "image/png": "[encoded data removed]",
      "text/plain": [
       "<Figure size 864x576 with 1 Axes>"
      ]
     },
     "metadata": {
      "needs_background": "light"
     },
     "output_type": "display_data"
    },
    {
     "data": {
      "image/png": "[encoded data removed]",
      "text/plain": [
       "<Figure size 864x576 with 1 Axes>"
      ]
     },
     "metadata": {
      "needs_background": "light"
     },
     "output_type": "display_data"
    }
   ],
   "source": [
    "# The history.history[\"loss\"] entry is a dictionary with as many values as epochs that the\n",
    "# model was trained on. \n",
    "df_loss_acc = pd.DataFrame(history.history)\n",
    "df_loss= df_loss_acc[['loss','val_loss']]\n",
    "df_loss.rename(columns={'loss':'train','val_loss':'validation'},inplace=True)\n",
    "df_acc= df_loss_acc[['accuracy','val_accuracy']]\n",
    "df_acc.rename(columns={'accuracy':'train','val_accuracy':'validation'},inplace=True)\n",
    "df_loss.plot(title='Model loss',figsize=(12,8)).set(xlabel='Epoch',ylabel='Loss')\n",
    "df_acc.plot(title='Model Accuracy',figsize=(12,8)).set(xlabel='Epoch',ylabel='Accuracy')"
   ]
  },
  {
   "cell_type": "markdown",
   "metadata": {},
   "source": [
    "**Congratulations**! You've finished the assignment and built two models: One that recognizes  smiles, and another that recognizes SIGN language with almost 80% accuracy on the test set. In addition to that, you now also understand the applications of two Keras APIs: Sequential and Functional. Nicely done! \n",
    "\n",
    "By now, you know a bit about how the Functional API works and may have glimpsed the possibilities. In your next assignment, you'll really get a feel for its power when you get the opportunity to build a very deep ConvNet, using ResNets! "
   ]
  },
  {
   "cell_type": "markdown",
   "metadata": {},
   "source": [
    "<a name='6'></a>\n",
    "## 6 - Bibliography\n",
    "\n",
    "You're always encouraged to read the official documentation. To that end, you can find the docs for the Sequential and Functional APIs here: \n",
    "\n",
    "https://www.tensorflow.org/guide/keras/sequential_model\n",
    "\n",
    "https://www.tensorflow.org/guide/keras/functional"
   ]
  }
 ],
 "metadata": {
  "coursera": {
   "course_slug": "convolutional-neural-networks",
   "graded_item_id": "bwbJV",
   "launcher_item_id": "0TkXB"
  },
  "kernelspec": {
   "display_name": "Python 3",
   "language": "python",
   "name": "python3"
  },
  "language_info": {
   "codemirror_mode": {
    "name": "ipython",
    "version": 3
   },
   "file_extension": ".py",
   "mimetype": "text/x-python",
   "name": "python",
   "nbconvert_exporter": "python",
   "pygments_lexer": "ipython3",
   "version": "3.7.6"
  }
 },
 "nbformat": 4,
 "nbformat_minor": 2
}
